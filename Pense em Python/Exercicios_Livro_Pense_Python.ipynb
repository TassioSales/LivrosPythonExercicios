{
 "cells": [
  {
   "cell_type": "markdown",
   "id": "8d11f1bd",
   "metadata": {},
   "source": [
    "<h2><a href = \"https://drive.google.com/file/d/1J3grv1OkYbnuhp72xEmaZ9vdLZ-vZ7oJ/view?usp=sharing\">Livro Pense Python</a></h2>\n",
    "\n",
    "\n",
    "<p>Aqui irei execultar e testa alguns exercicios sobre o livro sitado acima</p>"
   ]
  },
  {
   "cell_type": "markdown",
   "id": "c99945cc",
   "metadata": {},
   "source": [
    "<h1>Exercício 1.1</h1>\n",
    "\n",
    "<p>É uma boa ideia ler este livro em frente a um computador para testar os exemplos durante\n",
    "a leitura.</p>\n",
    "<p>Sempre que estiver testando um novo recurso, você deve tentar fazer erros. Por exemplo,\n",
    "no programa “Hello, World!”, o que acontece se omitir uma das aspas? E se omitir ambas?\n",
    "E se você soletrar a instrução print de forma errada?</p>\n",
    "<p>Este tipo de experimento ajuda a lembrar o que foi lido; também ajuda quando você\n",
    "estiver programando, porque assim conhecerá o significado das mensagens de erro. É\n",
    "melhor fazer erros agora e de propósito que depois e acidentalmente.</p>\n",
    "\n",
    "<ol>\n",
    "    <li>Em uma instrução print, o que acontece se você omitir um dos parênteses ou ambos?</li>\n",
    "    <li>Se estiver tentando imprimir uma string, o que acontece se omitir uma das aspas ou\n",
    "    ambas?</li>\n",
    "    <li>Você pode usar um sinal de menos para fazer um número negativo como -2. O que\n",
    "    acontece se puser um sinal de mais antes de um número? E se escrever assim: 2++2?\n",
    "    </li>\n",
    "    <li>Na notação matemática, zeros à esquerda são aceitáveis, como em 02. O que\n",
    "    acontece se você tentar usar isso no Python?\n",
    "    </li>\n",
    "    <li>O que acontece se você tiver dois valores sem nenhum operador entre eles?</li>\n",
    "</ol>"
   ]
  },
  {
   "cell_type": "code",
   "execution_count": 12,
   "id": "7ae873ab",
   "metadata": {},
   "outputs": [
    {
     "ename": "SyntaxError",
     "evalue": "unexpected EOF while parsing (Temp/ipykernel_15240/2887052016.py, line 3)",
     "output_type": "error",
     "traceback": [
      "\u001b[1;36m  File \u001b[1;32m\"C:\\Users\\tassi\\AppData\\Local\\Temp/ipykernel_15240/2887052016.py\"\u001b[1;36m, line \u001b[1;32m3\u001b[0m\n\u001b[1;33m    #Acontece um erro de Syntax\u001b[0m\n\u001b[1;37m                               ^\u001b[0m\n\u001b[1;31mSyntaxError\u001b[0m\u001b[1;31m:\u001b[0m unexpected EOF while parsing\n"
     ]
    }
   ],
   "source": [
    "#Resposta 1\n",
    "print('Hello Word'\n",
    "#Acontece um erro de Syntax"
   ]
  },
  {
   "cell_type": "code",
   "execution_count": 13,
   "id": "21b2838a",
   "metadata": {},
   "outputs": [
    {
     "ename": "SyntaxError",
     "evalue": "EOL while scanning string literal (Temp/ipykernel_15240/1527842512.py, line 2)",
     "output_type": "error",
     "traceback": [
      "\u001b[1;36m  File \u001b[1;32m\"C:\\Users\\tassi\\AppData\\Local\\Temp/ipykernel_15240/1527842512.py\"\u001b[1;36m, line \u001b[1;32m2\u001b[0m\n\u001b[1;33m    print('Hello Word)\u001b[0m\n\u001b[1;37m                      ^\u001b[0m\n\u001b[1;31mSyntaxError\u001b[0m\u001b[1;31m:\u001b[0m EOL while scanning string literal\n"
     ]
    }
   ],
   "source": [
    "#Reposta 2\n",
    "print('Hello Word)\n",
    "#Acontece um erro de Syntax"
   ]
  },
  {
   "cell_type": "code",
   "execution_count": 14,
   "id": "fa1af4ce",
   "metadata": {},
   "outputs": [
    {
     "ename": "SyntaxError",
     "evalue": "invalid syntax (Temp/ipykernel_15240/2837264916.py, line 2)",
     "output_type": "error",
     "traceback": [
      "\u001b[1;36m  File \u001b[1;32m\"C:\\Users\\tassi\\AppData\\Local\\Temp/ipykernel_15240/2837264916.py\"\u001b[1;36m, line \u001b[1;32m2\u001b[0m\n\u001b[1;33m    print(Hello Word)\u001b[0m\n\u001b[1;37m                ^\u001b[0m\n\u001b[1;31mSyntaxError\u001b[0m\u001b[1;31m:\u001b[0m invalid syntax\n"
     ]
    }
   ],
   "source": [
    "#Reposta 2\n",
    "print(Hello Word)\n",
    "#Acontece um erro de Syntax"
   ]
  },
  {
   "cell_type": "code",
   "execution_count": 16,
   "id": "df669059",
   "metadata": {},
   "outputs": [
    {
     "name": "stdout",
     "output_type": "stream",
     "text": [
      "-2\n",
      "2\n"
     ]
    }
   ],
   "source": [
    "#Respposta 3\n",
    "print(-2)\n",
    "print(+2)\n",
    "#imprime o numero de forma positiva"
   ]
  },
  {
   "cell_type": "code",
   "execution_count": 22,
   "id": "da58bc61",
   "metadata": {},
   "outputs": [
    {
     "ename": "SyntaxError",
     "evalue": "leading zeros in decimal integer literals are not permitted; use an 0o prefix for octal integers (Temp/ipykernel_15240/1330621393.py, line 2)",
     "output_type": "error",
     "traceback": [
      "\u001b[1;36m  File \u001b[1;32m\"C:\\Users\\tassi\\AppData\\Local\\Temp/ipykernel_15240/1330621393.py\"\u001b[1;36m, line \u001b[1;32m2\u001b[0m\n\u001b[1;33m    print(006)\u001b[0m\n\u001b[1;37m            ^\u001b[0m\n\u001b[1;31mSyntaxError\u001b[0m\u001b[1;31m:\u001b[0m leading zeros in decimal integer literals are not permitted; use an 0o prefix for octal integers\n"
     ]
    }
   ],
   "source": [
    "#Reposta 4 \n",
    "print(006)"
   ]
  },
  {
   "cell_type": "code",
   "execution_count": 24,
   "id": "a2ba53a2",
   "metadata": {},
   "outputs": [
    {
     "ename": "SyntaxError",
     "evalue": "invalid syntax (Temp/ipykernel_15240/834834118.py, line 3)",
     "output_type": "error",
     "traceback": [
      "\u001b[1;36m  File \u001b[1;32m\"C:\\Users\\tassi\\AppData\\Local\\Temp/ipykernel_15240/834834118.py\"\u001b[1;36m, line \u001b[1;32m3\u001b[0m\n\u001b[1;33m    print(++)\u001b[0m\n\u001b[1;37m            ^\u001b[0m\n\u001b[1;31mSyntaxError\u001b[0m\u001b[1;31m:\u001b[0m invalid syntax\n"
     ]
    }
   ],
   "source": [
    "#Respota 5\n",
    "\n",
    "print(++)"
   ]
  },
  {
   "cell_type": "code",
   "execution_count": 25,
   "id": "5c196c21",
   "metadata": {},
   "outputs": [
    {
     "ename": "SyntaxError",
     "evalue": "invalid syntax (Temp/ipykernel_15240/1382430433.py, line 3)",
     "output_type": "error",
     "traceback": [
      "\u001b[1;36m  File \u001b[1;32m\"C:\\Users\\tassi\\AppData\\Local\\Temp/ipykernel_15240/1382430433.py\"\u001b[1;36m, line \u001b[1;32m3\u001b[0m\n\u001b[1;33m    print(-+)\u001b[0m\n\u001b[1;37m            ^\u001b[0m\n\u001b[1;31mSyntaxError\u001b[0m\u001b[1;31m:\u001b[0m invalid syntax\n"
     ]
    }
   ],
   "source": [
    "#Respota 5\n",
    "\n",
    "print(-+)"
   ]
  },
  {
   "cell_type": "markdown",
   "id": "8919c0bd",
   "metadata": {},
   "source": [
    "<h1>Exercício 1.2</h1>\n",
    "<p>Inicialize o interpretador do Python e use-o como uma calculadora.</p>\n",
    "<ol>\n",
    "    <li>Quantos segundos há em 42 minutos e 42 segundos?\n",
    "    <li>Quantas milhas há em 10 quilômetros? Dica: uma milha equivale a 1,61 quilômetro.\n",
    "    <li>Se você correr 10 quilômetros em 42 minutos e 42 segundos, qual é o seu passo\n",
    "    médio (tempo por milha em minutos e segundos)? Qual é a sua velocidade média em\n",
    "    milhas por hora?\n",
    "</ol>    "
   ]
  },
  {
   "cell_type": "code",
   "execution_count": 28,
   "id": "0ba1092d",
   "metadata": {},
   "outputs": [
    {
     "name": "stdout",
     "output_type": "stream",
     "text": [
      "2562\n"
     ]
    }
   ],
   "source": [
    "#resposta 1\n",
    "print((42 * 60) + 42)"
   ]
  },
  {
   "cell_type": "code",
   "execution_count": 29,
   "id": "670d366d",
   "metadata": {},
   "outputs": [
    {
     "name": "stdout",
     "output_type": "stream",
     "text": [
      "16.1\n"
     ]
    }
   ],
   "source": [
    "#resposta 2 \n",
    "print(10 * 1.61)"
   ]
  },
  {
   "cell_type": "code",
   "execution_count": 32,
   "id": "84ffc96a",
   "metadata": {},
   "outputs": [
    {
     "name": "stdout",
     "output_type": "stream",
     "text": [
      "A Velocidade media e de 22.62 Milhas/h\n"
     ]
    }
   ],
   "source": [
    "#resposta 3\n",
    "milhaTotal = 10 * 1.61\n",
    "segundos = 42\n",
    "minutos = 42 \n",
    "segundosTotais = minutos * 60 + segundos\n",
    "horas = segundosTotais/3600\n",
    "VelocidadeMedia = milhaTotal  / horas\n",
    "print(\"A Velocidade media e de {:.2f} Milhas/h\".format(VelocidadeMedia))"
   ]
  }
 ],
 "metadata": {
  "kernelspec": {
   "display_name": "Python 3 (ipykernel)",
   "language": "python",
   "name": "python3"
  },
  "language_info": {
   "codemirror_mode": {
    "name": "ipython",
    "version": 3
   },
   "file_extension": ".py",
   "mimetype": "text/x-python",
   "name": "python",
   "nbconvert_exporter": "python",
   "pygments_lexer": "ipython3",
   "version": "3.9.7"
  }
 },
 "nbformat": 4,
 "nbformat_minor": 5
}
