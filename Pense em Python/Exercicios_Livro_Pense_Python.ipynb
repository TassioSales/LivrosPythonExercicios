{
 "cells": [
  {
   "cell_type": "markdown",
   "id": "8d11f1bd",
   "metadata": {},
   "source": [
    "<h2><a href = \"https://drive.google.com/file/d/1J3grv1OkYbnuhp72xEmaZ9vdLZ-vZ7oJ/view?usp=sharing\">Livro Pense Python</a></h2>\n",
    "\n",
    "\n",
    "<p>Aqui irei execultar e testa alguns exercicios sobre o livro sitado acima</p>"
   ]
  },
  {
   "cell_type": "markdown",
   "id": "c99945cc",
   "metadata": {},
   "source": [
    "<h1>Exercício 1.1</h1>\n",
    "\n",
    "<p>É uma boa ideia ler este livro em frente a um computador para testar os exemplos durante\n",
    "a leitura.</p>\n",
    "<p>Sempre que estiver testando um novo recurso, você deve tentar fazer erros. Por exemplo,\n",
    "no programa “Hello, World!”, o que acontece se omitir uma das aspas? E se omitir ambas?\n",
    "E se você soletrar a instrução print de forma errada?</p>\n",
    "<p>Este tipo de experimento ajuda a lembrar o que foi lido; também ajuda quando você\n",
    "estiver programando, porque assim conhecerá o significado das mensagens de erro. É\n",
    "melhor fazer erros agora e de propósito que depois e acidentalmente.</p>\n",
    "\n",
    "<ol>\n",
    "    <li>Em uma instrução print, o que acontece se você omitir um dos parênteses ou ambos?</li>\n",
    "    <li>Se estiver tentando imprimir uma string, o que acontece se omitir uma das aspas ou\n",
    "    ambas?</li>\n",
    "    <li>Você pode usar um sinal de menos para fazer um número negativo como -2. O que\n",
    "    acontece se puser um sinal de mais antes de um número? E se escrever assim: 2++2?\n",
    "    </li>\n",
    "    <li>Na notação matemática, zeros à esquerda são aceitáveis, como em 02. O que\n",
    "    acontece se você tentar usar isso no Python?\n",
    "    </li>\n",
    "    <li>O que acontece se você tiver dois valores sem nenhum operador entre eles?</li>\n",
    "</ol>"
   ]
  },
  {
   "cell_type": "code",
   "execution_count": 12,
   "id": "7ae873ab",
   "metadata": {},
   "outputs": [
    {
     "ename": "SyntaxError",
     "evalue": "unexpected EOF while parsing (Temp/ipykernel_15240/2887052016.py, line 3)",
     "output_type": "error",
     "traceback": [
      "\u001b[1;36m  File \u001b[1;32m\"C:\\Users\\tassi\\AppData\\Local\\Temp/ipykernel_15240/2887052016.py\"\u001b[1;36m, line \u001b[1;32m3\u001b[0m\n\u001b[1;33m    #Acontece um erro de Syntax\u001b[0m\n\u001b[1;37m                               ^\u001b[0m\n\u001b[1;31mSyntaxError\u001b[0m\u001b[1;31m:\u001b[0m unexpected EOF while parsing\n"
     ]
    }
   ],
   "source": [
    "#Resposta 1\n",
    "print('Hello Word'\n",
    "#Acontece um erro de Syntax"
   ]
  },
  {
   "cell_type": "code",
   "execution_count": 13,
   "id": "21b2838a",
   "metadata": {},
   "outputs": [
    {
     "ename": "SyntaxError",
     "evalue": "EOL while scanning string literal (Temp/ipykernel_15240/1527842512.py, line 2)",
     "output_type": "error",
     "traceback": [
      "\u001b[1;36m  File \u001b[1;32m\"C:\\Users\\tassi\\AppData\\Local\\Temp/ipykernel_15240/1527842512.py\"\u001b[1;36m, line \u001b[1;32m2\u001b[0m\n\u001b[1;33m    print('Hello Word)\u001b[0m\n\u001b[1;37m                      ^\u001b[0m\n\u001b[1;31mSyntaxError\u001b[0m\u001b[1;31m:\u001b[0m EOL while scanning string literal\n"
     ]
    }
   ],
   "source": [
    "#Reposta 2\n",
    "print('Hello Word)\n",
    "#Acontece um erro de Syntax"
   ]
  },
  {
   "cell_type": "code",
   "execution_count": 14,
   "id": "fa1af4ce",
   "metadata": {},
   "outputs": [
    {
     "ename": "SyntaxError",
     "evalue": "invalid syntax (Temp/ipykernel_15240/2837264916.py, line 2)",
     "output_type": "error",
     "traceback": [
      "\u001b[1;36m  File \u001b[1;32m\"C:\\Users\\tassi\\AppData\\Local\\Temp/ipykernel_15240/2837264916.py\"\u001b[1;36m, line \u001b[1;32m2\u001b[0m\n\u001b[1;33m    print(Hello Word)\u001b[0m\n\u001b[1;37m                ^\u001b[0m\n\u001b[1;31mSyntaxError\u001b[0m\u001b[1;31m:\u001b[0m invalid syntax\n"
     ]
    }
   ],
   "source": [
    "#Reposta 2\n",
    "print(Hello Word)\n",
    "#Acontece um erro de Syntax"
   ]
  },
  {
   "cell_type": "code",
   "execution_count": 16,
   "id": "df669059",
   "metadata": {},
   "outputs": [
    {
     "name": "stdout",
     "output_type": "stream",
     "text": [
      "-2\n",
      "2\n"
     ]
    }
   ],
   "source": [
    "#Respposta 3\n",
    "print(-2)\n",
    "print(+2)\n",
    "#imprime o numero de forma positiva"
   ]
  },
  {
   "cell_type": "code",
   "execution_count": 22,
   "id": "da58bc61",
   "metadata": {},
   "outputs": [
    {
     "ename": "SyntaxError",
     "evalue": "leading zeros in decimal integer literals are not permitted; use an 0o prefix for octal integers (Temp/ipykernel_15240/1330621393.py, line 2)",
     "output_type": "error",
     "traceback": [
      "\u001b[1;36m  File \u001b[1;32m\"C:\\Users\\tassi\\AppData\\Local\\Temp/ipykernel_15240/1330621393.py\"\u001b[1;36m, line \u001b[1;32m2\u001b[0m\n\u001b[1;33m    print(006)\u001b[0m\n\u001b[1;37m            ^\u001b[0m\n\u001b[1;31mSyntaxError\u001b[0m\u001b[1;31m:\u001b[0m leading zeros in decimal integer literals are not permitted; use an 0o prefix for octal integers\n"
     ]
    }
   ],
   "source": [
    "#Reposta 4 \n",
    "print(006)"
   ]
  },
  {
   "cell_type": "code",
   "execution_count": 24,
   "id": "a2ba53a2",
   "metadata": {},
   "outputs": [
    {
     "ename": "SyntaxError",
     "evalue": "invalid syntax (Temp/ipykernel_15240/834834118.py, line 3)",
     "output_type": "error",
     "traceback": [
      "\u001b[1;36m  File \u001b[1;32m\"C:\\Users\\tassi\\AppData\\Local\\Temp/ipykernel_15240/834834118.py\"\u001b[1;36m, line \u001b[1;32m3\u001b[0m\n\u001b[1;33m    print(++)\u001b[0m\n\u001b[1;37m            ^\u001b[0m\n\u001b[1;31mSyntaxError\u001b[0m\u001b[1;31m:\u001b[0m invalid syntax\n"
     ]
    }
   ],
   "source": [
    "#Respota 5\n",
    "\n",
    "print(++)"
   ]
  },
  {
   "cell_type": "code",
   "execution_count": 25,
   "id": "5c196c21",
   "metadata": {},
   "outputs": [
    {
     "ename": "SyntaxError",
     "evalue": "invalid syntax (Temp/ipykernel_15240/1382430433.py, line 3)",
     "output_type": "error",
     "traceback": [
      "\u001b[1;36m  File \u001b[1;32m\"C:\\Users\\tassi\\AppData\\Local\\Temp/ipykernel_15240/1382430433.py\"\u001b[1;36m, line \u001b[1;32m3\u001b[0m\n\u001b[1;33m    print(-+)\u001b[0m\n\u001b[1;37m            ^\u001b[0m\n\u001b[1;31mSyntaxError\u001b[0m\u001b[1;31m:\u001b[0m invalid syntax\n"
     ]
    }
   ],
   "source": [
    "#Respota 5\n",
    "\n",
    "print(-+)"
   ]
  },
  {
   "cell_type": "markdown",
   "id": "8919c0bd",
   "metadata": {},
   "source": [
    "<h1>Exercício 1.2</h1>\n",
    "<p>Inicialize o interpretador do Python e use-o como uma calculadora.</p>\n",
    "<ol>\n",
    "    <li>Quantos segundos há em 42 minutos e 42 segundos?\n",
    "    <li>Quantas milhas há em 10 quilômetros? Dica: uma milha equivale a 1,61 quilômetro.\n",
    "    <li>Se você correr 10 quilômetros em 42 minutos e 42 segundos, qual é o seu passo\n",
    "    médio (tempo por milha em minutos e segundos)? Qual é a sua velocidade média em\n",
    "    milhas por hora?\n",
    "</ol>    "
   ]
  },
  {
   "cell_type": "code",
   "execution_count": 28,
   "id": "0ba1092d",
   "metadata": {},
   "outputs": [
    {
     "name": "stdout",
     "output_type": "stream",
     "text": [
      "2562\n"
     ]
    }
   ],
   "source": [
    "#resposta 1\n",
    "print((42 * 60) + 42)"
   ]
  },
  {
   "cell_type": "code",
   "execution_count": 29,
   "id": "670d366d",
   "metadata": {},
   "outputs": [
    {
     "name": "stdout",
     "output_type": "stream",
     "text": [
      "16.1\n"
     ]
    }
   ],
   "source": [
    "#resposta 2 \n",
    "print(10 * 1.61)"
   ]
  },
  {
   "cell_type": "code",
   "execution_count": 32,
   "id": "84ffc96a",
   "metadata": {},
   "outputs": [
    {
     "name": "stdout",
     "output_type": "stream",
     "text": [
      "A Velocidade media e de 22.62 Milhas/h\n"
     ]
    }
   ],
   "source": [
    "#resposta 3\n",
    "milhaTotal = 10 * 1.61\n",
    "segundos = 42\n",
    "minutos = 42 \n",
    "segundosTotais = minutos * 60 + segundos\n",
    "horas = segundosTotais/3600\n",
    "VelocidadeMedia = milhaTotal  / horas\n",
    "print(\"A Velocidade media e de {:.2f} Milhas/h\".format(VelocidadeMedia))"
   ]
  },
  {
   "cell_type": "markdown",
   "id": "78c4873c",
   "metadata": {},
   "source": [
    "<h1>Exercício 2.1</h1>\n",
    "\n",
    "<p>Repetindo o meu conselho do capítulo anterior, sempre que você aprender um recurso\n",
    "novo, você deve testá-lo no modo interativo e fazer erros de propósito para ver o que\n",
    "acontece.</p>\n",
    "<ol>\n",
    "<li>Vimos que n = 42 é legal. E 42 = n?\n",
    "<li>Ou x = y = 1?\n",
    "<lli>Em algumas linguagens, cada instrução termina em um ponto e vírgula ;. O que\n",
    "acontece se você puser um ponto e vírgula no fim de uma instrução no Python?\n",
    "<li>E se puser um ponto no fim de uma instrução?\n",
    "Em notação matemática é possível multiplicar x e y desta forma: xy. O que acontece\n",
    "se você tentar fazer o mesmo no Python?\n",
    "</ol>"
   ]
  },
  {
   "cell_type": "code",
   "execution_count": 2,
   "id": "cfc1df65",
   "metadata": {},
   "outputs": [
    {
     "data": {
      "text/plain": [
       "42"
      ]
     },
     "execution_count": 2,
     "metadata": {},
     "output_type": "execute_result"
    }
   ],
   "source": [
    "#resposta 1\n",
    "n = 42\n",
    "print(n)"
   ]
  },
  {
   "cell_type": "code",
   "execution_count": 7,
   "id": "7c6d0bd3",
   "metadata": {},
   "outputs": [
    {
     "ename": "SyntaxError",
     "evalue": "cannot assign to literal (Temp/ipykernel_31000/4235948127.py, line 1)",
     "output_type": "error",
     "traceback": [
      "\u001b[1;36m  File \u001b[1;32m\"C:\\Users\\tassi\\AppData\\Local\\Temp/ipykernel_31000/4235948127.py\"\u001b[1;36m, line \u001b[1;32m1\u001b[0m\n\u001b[1;33m    42 = n\u001b[0m\n\u001b[1;37m    ^\u001b[0m\n\u001b[1;31mSyntaxError\u001b[0m\u001b[1;31m:\u001b[0m cannot assign to literal\n"
     ]
    }
   ],
   "source": [
    "42 = n\n",
    "print(42)"
   ]
  },
  {
   "cell_type": "code",
   "execution_count": 6,
   "id": "eaaaee72",
   "metadata": {},
   "outputs": [
    {
     "name": "stdout",
     "output_type": "stream",
     "text": [
      "1\n",
      "1\n"
     ]
    }
   ],
   "source": [
    "#resposta 2\n",
    "x = y = 1\n",
    "print(x)\n",
    "print(y)"
   ]
  },
  {
   "cell_type": "code",
   "execution_count": 8,
   "id": "cf83f11e",
   "metadata": {},
   "outputs": [
    {
     "name": "stdout",
     "output_type": "stream",
     "text": [
      "colocando ponto e vigula ';' no final da instrução\n"
     ]
    }
   ],
   "source": [
    "#respota 3\n",
    "print(\"colocando ponto e vigula ';' no final da instrução\");"
   ]
  },
  {
   "cell_type": "code",
   "execution_count": 10,
   "id": "d4688777",
   "metadata": {},
   "outputs": [
    {
     "ename": "NameError",
     "evalue": "name 'z' is not defined",
     "output_type": "error",
     "traceback": [
      "\u001b[1;31m---------------------------------------------------------------------------\u001b[0m",
      "\u001b[1;31mNameError\u001b[0m                                 Traceback (most recent call last)",
      "\u001b[1;32m~\\AppData\\Local\\Temp/ipykernel_31000/3192906816.py\u001b[0m in \u001b[0;36m<module>\u001b[1;34m\u001b[0m\n\u001b[0;32m      1\u001b[0m \u001b[1;31m#reposta 4\u001b[0m\u001b[1;33m\u001b[0m\u001b[1;33m\u001b[0m\u001b[0m\n\u001b[1;32m----> 2\u001b[1;33m \u001b[0mprint\u001b[0m\u001b[1;33m(\u001b[0m\u001b[0mz\u001b[0m \u001b[1;33m*\u001b[0m \u001b[0ms\u001b[0m\u001b[1;33m)\u001b[0m\u001b[1;33m\u001b[0m\u001b[1;33m\u001b[0m\u001b[0m\n\u001b[0m",
      "\u001b[1;31mNameError\u001b[0m: name 'z' is not defined"
     ]
    }
   ],
   "source": [
    "#reposta 4\n",
    "print(z * s)"
   ]
  },
  {
   "attachments": {},
   "cell_type": "markdown",
   "id": "ee8f76af",
   "metadata": {},
   "source": [
    "<h1>Exercício 2.2</h1>\n",
    "<p>Pratique o uso do interpretador do Python como uma calculadora:</p>\n",
    "<ol>\n",
    "    <li>O volume de uma esfera com raio r  é . Qual é o volume de uma esfera com raio 5?\n",
    "    <li>Suponha que o preço de capa de um livro seja R\\$ 24,95, mas as livrarias recebem um\n",
    "    desconto de 40\\%. O transporte custa R$ 3,00 para o primeiro exemplar e 75 centavos\n",
    "    para cada exemplar adicional. Qual é o custo total de atacado para 60 cópias?\n",
    "    <li>Se eu sair da minha casa às 6:52 e correr 1 quilômetro a um certo passo (8min15s por\n",
    "    quilômetro), então 3 quilômetros a um passo mais rápido (7min12s por quilômetro) e\n",
    "    1 quilômetro no mesmo passo usado em primeiro lugar, que horas chego em casa\n",
    "para o café da manhã?\n",
    "</ol>"
   ]
  },
  {
   "cell_type": "code",
   "execution_count": 15,
   "id": "b5611b9c",
   "metadata": {},
   "outputs": [
    {
     "name": "stdout",
     "output_type": "stream",
     "text": [
      "O Volume e de uma esfera com raio igual a 5 e 523.60\n"
     ]
    }
   ],
   "source": [
    "#respota 1\n",
    "raio = 5\n",
    "pi = 3.14159\n",
    "volume = float(4.0 * pi * (raio * raio * raio) / 3)\n",
    "print(f'O Volume e de uma esfera com raio igual a {raio} e {volume:.2f}')"
   ]
  },
  {
   "cell_type": "code",
   "execution_count": 14,
   "id": "a62601ff",
   "metadata": {},
   "outputs": [
    {
     "name": "stdout",
     "output_type": "stream",
     "text": [
      "Area = 314.16\n",
      "Volume 523.60\n"
     ]
    }
   ],
   "source": [
    "#reposta 1\n",
    "import math\n",
    "\n",
    "raio = 5\n",
    "\n",
    "# V= 4/3*pi*r^3\n",
    "volume = 4/3 * math.pi * math.pow(float(raio),3)\n",
    "\n",
    "# A = 4 * pi*r^2\n",
    "area = 4 * math.pi * math.pow(float(raio),2)\n",
    "\n",
    "print(\"Area = %.2f\" % area)\n",
    "print(\"Volume %.2f\" % volume)"
   ]
  },
  {
   "cell_type": "code",
   "execution_count": 24,
   "id": "95250923",
   "metadata": {},
   "outputs": [
    {
     "name": "stdout",
     "output_type": "stream",
     "text": [
      "O valor do frete e R$ 47.25\n",
      "O valor dos livros com desconto e R$ 898.2\n",
      "O valor total da sua compra e R$ 945.45\n"
     ]
    }
   ],
   "source": [
    "#reposta 2\n",
    "valor = 24.95\n",
    "desconto = 40\n",
    "transporte_primeiro_exemplar = 3\n",
    "transporte_exemplar_adicinal = 0.75\n",
    "\n",
    "numero_de_copias = 60\n",
    "\n",
    "valor_inicial =  numero_de_copias * valor\n",
    "\n",
    "valor_com_40porcento_desconto = valor_inicial - (valor_inicial * desconto / 100)\n",
    "\n",
    "\n",
    "valor_frete =  (numero_de_copias - 1) * transporte_exemplar_adicinal + transporte_primeiro_exemplar\n",
    "\n",
    "\n",
    "\n",
    "\n",
    "print(f\"O valor do frete e R$ {valor_frete}\")\n",
    "print(f'O valor dos livros com desconto e R$ {valor_com_40porcento_desconto}')\n",
    "print(f'O valor total da sua compra e R${valor_frete + valor_com_40porcento_desconto}')"
   ]
  }
 ],
 "metadata": {
  "kernelspec": {
   "display_name": "Python 3 (ipykernel)",
   "language": "python",
   "name": "python3"
  },
  "language_info": {
   "codemirror_mode": {
    "name": "ipython",
    "version": 3
   },
   "file_extension": ".py",
   "mimetype": "text/x-python",
   "name": "python",
   "nbconvert_exporter": "python",
   "pygments_lexer": "ipython3",
   "version": "3.9.7"
  }
 },
 "nbformat": 4,
 "nbformat_minor": 5
}
